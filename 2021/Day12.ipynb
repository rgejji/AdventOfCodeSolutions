{
 "cells": [
  {
   "cell_type": "code",
   "execution_count": 47,
   "metadata": {},
   "outputs": [
    {
     "name": "stdout",
     "output_type": "stream",
     "text": [
      "19\n"
     ]
    }
   ],
   "source": [
    "import numpy as np\n",
    "\n",
    "def readInput(input):\n",
    "    graph = {}\n",
    "    lines = input.split(\"\\n\")\n",
    "    for line in lines:\n",
    "        vals = line.split(\"-\")\n",
    "        start, end = vals[0], vals[1]\n",
    "        if start in graph:\n",
    "            graph[start].append(end)\n",
    "        else:\n",
    "            graph[start] = [end]\n",
    "        if end in graph:\n",
    "            graph[end].append(start)\n",
    "        else:\n",
    "            graph[end] = [start]\n",
    "    return graph\n",
    "\n",
    "def isValidNeighbor(currPath, node):\n",
    "    if node.islower() and node in currPath:\n",
    "        return False\n",
    "    last = currPath[-1]\n",
    "    #Add a check for repeating paths.\n",
    "    for i in range(1,len(currPath)):\n",
    "        if currPath[i-1] == last and currPath[i] == node:\n",
    "            return False\n",
    "    return True\n",
    "    \n",
    "def iteratePaths(graph):\n",
    "    s = \"start\"\n",
    "    stack = [[s]]\n",
    "    numPaths = 0\n",
    "    cnt = 0\n",
    "    while len(stack)>0:\n",
    "        cnt+=1\n",
    "        if cnt %10000 == 0:\n",
    "            print(\"cnt={} ...\".format(cnt))\n",
    "        currPath = stack.pop()    \n",
    "        currNode = currPath[-1]\n",
    "        #Check if we are done\n",
    "        if currNode == \"end\":\n",
    "            numPaths += 1\n",
    "            continue\n",
    "        #Check neighbors\n",
    "        neighbors = graph[currNode]\n",
    "        for n in neighbors:\n",
    "            if isValidNeighbor(currPath, n):\n",
    "                newPath = currPath.copy()\n",
    "                newPath.append(n)\n",
    "                stack.append(newPath)\n",
    "    return numPaths\n",
    "graph = readInput(input)\n",
    "numPaths = iteratePaths(graph)\n",
    "print(numPaths)\n",
    "    \n",
    "    \n"
   ]
  },
  {
   "cell_type": "code",
   "execution_count": 48,
   "metadata": {},
   "outputs": [
    {
     "name": "stdout",
     "output_type": "stream",
     "text": [
      "103\n"
     ]
    }
   ],
   "source": [
    "def twoSmallExists(currPath):\n",
    "    pathHash = {}\n",
    "    for node in currPath:\n",
    "        if node.islower():\n",
    "            if node in pathHash:\n",
    "                return True\n",
    "            pathHash[node] = True\n",
    "    return False\n",
    "\n",
    "def isValidNeighborTwoSmall(currPath, node):\n",
    "    if node == \"start\" or node.islower() and node in currPath and twoSmallExists(currPath):\n",
    "        return False\n",
    "    return True\n",
    "    \n",
    "def iteratePaths(graph):\n",
    "    s = \"start\"\n",
    "    stack = [[s]]\n",
    "    numPaths = 0\n",
    "    cnt = 0\n",
    "    while len(stack)>0:\n",
    "        cnt+=1\n",
    "        if cnt %10000 == 0:\n",
    "            print(\"cnt={} ...\".format(cnt))\n",
    "        currPath = stack.pop()    \n",
    "        currNode = currPath[-1]\n",
    "        #Check if we are done\n",
    "        if currNode == \"end\":            \n",
    "            numPaths += 1\n",
    "            #print(currPath)\n",
    "            continue\n",
    "        #Check neighbors\n",
    "        neighbors = graph[currNode]\n",
    "        for n in neighbors:\n",
    "            if isValidNeighborTwoSmall(currPath, n):\n",
    "                newPath = currPath.copy()\n",
    "                newPath.append(n)\n",
    "                stack.append(newPath)\n",
    "    return numPaths\n",
    "\n",
    "graph = readInput(input)\n",
    "numPaths = iteratePaths(graph)\n",
    "print(numPaths)\n",
    "    \n",
    "    "
   ]
  },
  {
   "cell_type": "code",
   "execution_count": 37,
   "metadata": {},
   "outputs": [],
   "source": [
    "input = '''start-A\n",
    "start-b\n",
    "A-c\n",
    "A-b\n",
    "b-d\n",
    "A-end\n",
    "b-end'''"
   ]
  },
  {
   "cell_type": "code",
   "execution_count": 46,
   "metadata": {},
   "outputs": [],
   "source": [
    "input = '''dc-end\n",
    "HN-start\n",
    "start-kj\n",
    "dc-start\n",
    "dc-HN\n",
    "LN-dc\n",
    "HN-end\n",
    "kj-sa\n",
    "kj-HN\n",
    "kj-dc'''"
   ]
  },
  {
   "cell_type": "code",
   "execution_count": null,
   "metadata": {},
   "outputs": [],
   "source": []
  }
 ],
 "metadata": {
  "kernelspec": {
   "display_name": "Python 3",
   "language": "python",
   "name": "python3"
  },
  "language_info": {
   "codemirror_mode": {
    "name": "ipython",
    "version": 3
   },
   "file_extension": ".py",
   "mimetype": "text/x-python",
   "name": "python",
   "nbconvert_exporter": "python",
   "pygments_lexer": "ipython3",
   "version": "3.7.7"
  }
 },
 "nbformat": 4,
 "nbformat_minor": 4
}

{
 "cells": [
  {
   "cell_type": "code",
   "execution_count": 16,
   "metadata": {},
   "outputs": [
    {
     "name": "stdout",
     "output_type": "stream",
     "text": [
      "Game ends with player 1 at 0.0 with score 1000.0 player 2 at 3.0 with score 745.0 and 993 dice rolled\n",
      "End Value 739785.0\n"
     ]
    }
   ],
   "source": [
    "\n",
    "#We take advantage that the board is mod 10 and so the die can be mod 10\n",
    "cnt = 0\n",
    "def rollUntilStop(loc1, loc2, thresholdScore):\n",
    "    die=0\n",
    "    numDice = 3\n",
    "    turn = 0\n",
    "    \n",
    "    score1 = 0\n",
    "    score2 = 0\n",
    "    cnt = 0\n",
    "    while(max(score1,score2) < thresholdScore):\n",
    "        numSpaces = (die+numDice)*(die+numDice+1)/2 - die*(die+1)/2\n",
    "        die = (die+numDice)%10\n",
    "        if turn == 0:\n",
    "            loc1 = (loc1+numSpaces)%10\n",
    "            score1 += loc1 if loc1 != 0 else 10\n",
    "        else:\n",
    "            loc2 = (loc2+numSpaces)%10\n",
    "            score2 += loc2 if loc2 != 0 else 10\n",
    "        turn = 1 - turn\n",
    "        cnt += numDice\n",
    "        if int(cnt/numDice) % 1000 == 0:\n",
    "            print(\"Rolled {} sets\".format(int(cnt/num)))\n",
    "        \n",
    "    return loc1, score1, loc2, score2, cnt\n",
    "\n",
    "loc1, score1, loc2, score2, cnt = rollUntilStop(4,8, 1000)\n",
    "print(\"Game ends with player 1 at {} with score {} player 2 at {} with score {} and {} dice rolled\".format(loc1, score1, loc2, score2, cnt))\n",
    "print(\"End Value\", min(score1,score2)*cnt)\n"
   ]
  },
  {
   "cell_type": "code",
   "execution_count": 44,
   "metadata": {},
   "outputs": [
    {
     "name": "stdout",
     "output_type": "stream",
     "text": [
      "{3: 1, 4: 3, 5: 6, 6: 7, 7: 6, 8: 3, 9: 1}\n",
      "444356092776315\n"
     ]
    }
   ],
   "source": [
    "#Could look at state space and iterate that way, e.g. 10 spaces for player 1 X 10 spaces for player 2 X 21 scores for player 1 X 21 scores for player 2,\n",
    "#Or just simulate\n",
    "\n",
    "#We do simplify by realizing that we are summing over random variables and no matter how many ways a 5 is rolled, its still a 5\n",
    "#Sums of 3 dice\n",
    "#1,1,1\n",
    "#1,1,2\n",
    "#1,1,3\n",
    "#...\n",
    "#3,3,3\n",
    "def getCombinationDict():\n",
    "    C={}\n",
    "    for i in range(1,4):\n",
    "        for j in range(1,4):\n",
    "            for k in range(1,4):\n",
    "                s = i+j+k\n",
    "                if s in C:\n",
    "                    C[s] += 1\n",
    "                else:\n",
    "                    C[s] = 1\n",
    "    return C\n",
    "\n",
    "\n",
    "CDict = getCombinationDict()\n",
    "\n",
    "print(CDict)\n",
    "threshold = 21\n",
    "\n",
    "def evalDieRoll(loc, score, die):\n",
    "    val = (loc+die)%10\n",
    "    newloc = 10 if val == 0 else val\n",
    "    return newloc, score+newloc\n",
    "\n",
    "def iterateUniverses(loc1, loc2, score1, score2, turn, threshold = 1):\n",
    "    if score1 >= threshold:\n",
    "        return 1, 0\n",
    "    if score2 >= threshold:\n",
    "        return 0, 1\n",
    "    s1,s2 = 0,0\n",
    "    if turn == 0:\n",
    "        for i, count in CDict.items():\n",
    "            newloc, newscore = evalDieRoll(loc1,score1, i)\n",
    "            a,b = iterateUniverses(newloc, loc2, newscore, score2, 1, threshold)\n",
    "            s1 += count*a\n",
    "            s2 += count*b\n",
    "    else:\n",
    "        for i, count in CDict.items():\n",
    "            newloc, newscore = evalDieRoll(loc2,score2, i)\n",
    "            a,b = iterateUniverses(loc1, newloc, score1, newscore, 0, threshold)\n",
    "            s1 += count*a\n",
    "            s2 += count*b\n",
    "    \n",
    "            \n",
    "    return s1, s2        \n",
    "\n",
    "\n",
    "s1, s2 = iterateUniverses(4,8,0,0,0,21)\n",
    "print(max(s1,s2))\n"
   ]
  },
  {
   "cell_type": "code",
   "execution_count": null,
   "metadata": {},
   "outputs": [],
   "source": []
  }
 ],
 "metadata": {
  "kernelspec": {
   "display_name": "Python 3",
   "language": "python",
   "name": "python3"
  },
  "language_info": {
   "codemirror_mode": {
    "name": "ipython",
    "version": 3
   },
   "file_extension": ".py",
   "mimetype": "text/x-python",
   "name": "python",
   "nbconvert_exporter": "python",
   "pygments_lexer": "ipython3",
   "version": "3.7.7"
  }
 },
 "nbformat": 4,
 "nbformat_minor": 4
}

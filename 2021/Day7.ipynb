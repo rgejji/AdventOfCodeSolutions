{
 "cells": [
  {
   "cell_type": "code",
   "execution_count": 16,
   "metadata": {},
   "outputs": [
    {
     "name": "stdout",
     "output_type": "stream",
     "text": [
      "37.0\n"
     ]
    }
   ],
   "source": [
    "import numpy as np\n",
    "\n",
    "\n",
    "#We solve this with linear algebra.\n",
    "#Count each fish state\n",
    "def readInput(input):\n",
    "    vec = np.zeros(9)\n",
    "    vals = input.split(\",\")\n",
    "    ints = []\n",
    "    for v in vals:\n",
    "        ints.append(int(v))\n",
    "    return ints\n",
    "\n",
    "#minimizing the l1 score is the median\n",
    "def score(vals, m):\n",
    "    s=0\n",
    "    for v in vals:\n",
    "        s+=abs(v-m)\n",
    "    return s\n",
    "\n",
    "vals = np.array(readInput(input))\n",
    "ma = np.floor(np.median(vals))\n",
    "mb = np.ceil(np.median(vals))\n",
    "\n",
    "print(min(score(vals,ma),score(vals,mb)))\n",
    "\n"
   ]
  },
  {
   "cell_type": "code",
   "execution_count": 15,
   "metadata": {},
   "outputs": [
    {
     "name": "stdout",
     "output_type": "stream",
     "text": [
      "Min score 168.0\n"
     ]
    }
   ],
   "source": [
    "#Minimizing the l2 norm is around the mean\n",
    "def scoreAlt(vals, m):\n",
    "    s=0\n",
    "    for v in vals:\n",
    "        dist = abs(v-m)\n",
    "        s+=dist*(dist+1)/2\n",
    "    return s\n",
    "\n",
    "m = np.mean(vals)\n",
    "sa = scoreAlt(vals, np.floor(m))\n",
    "sb = scoreAlt(vals, np.ceil(m))\n",
    "print(\"Min score\", min(sa,sb))\n",
    "\n",
    "#Non-mean way of doing the above\n",
    "#N = max(vals)\n",
    "#lowscore, lowind = 99999999999, 0\n",
    "#for i in range(0,N):\n",
    "#    curr = scoreAlt(vals,i)\n",
    "#    if curr < lowscore:\n",
    "#        lowind = i\n",
    "#        lowscore = curr\n",
    "#print(lowind, lowscore)"
   ]
  },
  {
   "cell_type": "code",
   "execution_count": 13,
   "metadata": {},
   "outputs": [],
   "source": [
    "input = '''16,1,2,0,4,2,7,1,2,14'''"
   ]
  },
  {
   "cell_type": "code",
   "execution_count": 9,
   "metadata": {},
   "outputs": [],
   "source": []
  },
  {
   "cell_type": "code",
   "execution_count": null,
   "metadata": {},
   "outputs": [],
   "source": []
  }
 ],
 "metadata": {
  "kernelspec": {
   "display_name": "Python 3",
   "language": "python",
   "name": "python3"
  },
  "language_info": {
   "codemirror_mode": {
    "name": "ipython",
    "version": 3
   },
   "file_extension": ".py",
   "mimetype": "text/x-python",
   "name": "python",
   "nbconvert_exporter": "python",
   "pygments_lexer": "ipython3",
   "version": "3.7.7"
  }
 },
 "nbformat": 4,
 "nbformat_minor": 4
}

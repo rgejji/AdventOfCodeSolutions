{
 "cells": [
  {
   "cell_type": "code",
   "execution_count": 97,
   "metadata": {},
   "outputs": [
    {
     "name": "stdout",
     "output_type": "stream",
     "text": [
      "22 9\n",
      "198\n"
     ]
    }
   ],
   "source": [
    "#input a copied string of the input\n",
    "vals = input.split(\"\\n\")\n",
    "\n",
    "S = len(vals[0])\n",
    "mask = 1\n",
    "onecnts = S*[0]\n",
    "zerocnts = S*[0]\n",
    "N = len(vals)\n",
    "#get one counts for each bit\n",
    "for val in vals:\n",
    "    num = int(val,2)\n",
    "    for k in range(S-1,-1,-1):\n",
    "        b = num & mask\n",
    "        if b == 1:\n",
    "            onecnts[k]+=1\n",
    "        if b == 0:\n",
    "            zerocnts[k]+=1\n",
    "        num = num >> 1\n",
    "\n",
    "#Calculate gamma and eps\n",
    "gam = 0\n",
    "eps = 0\n",
    "for k in range(0,S):\n",
    "    gam = 2*gam\n",
    "    eps = 2*eps\n",
    "    if onecnts[k] > N/2:\n",
    "        gam += 1\n",
    "    else:\n",
    "        eps += 1\n",
    "        \n",
    "print(gam, eps)\n",
    "print(gam*eps)"
   ]
  },
  {
   "cell_type": "code",
   "execution_count": 98,
   "metadata": {},
   "outputs": [
    {
     "name": "stdout",
     "output_type": "stream",
     "text": [
      "23 10\n",
      "230\n"
     ]
    }
   ],
   "source": [
    "#input a copied string of the input\n",
    "valsStr = input.split(\"\\n\")\n",
    "\n",
    "S = len(valsStr[0])\n",
    "mask = 1\n",
    "onecnts = S*[0]\n",
    "zerocnts = S*[0]\n",
    "N = len(valsStr)\n",
    "\n",
    "nums = [int(val,2) for val in valsStr]\n",
    "\n",
    "oxygen = nums\n",
    "carbon = nums.copy()\n",
    "\n",
    "#getMostCommon, ties goto 1\n",
    "def getMostCommon(vals, index):\n",
    "    oneCnt = 0\n",
    "    zeroCnt = 0\n",
    "    mask = 1 \n",
    "    for val in vals:\n",
    "        b = mask & val >> (S-1-index)\n",
    "        if b == 1:\n",
    "            oneCnt+=1\n",
    "        else:\n",
    "            zeroCnt+=1\n",
    "    if zeroCnt > oneCnt:\n",
    "        return 0\n",
    "    return 1\n",
    "\n",
    "\n",
    "def applyFilter(vals, b, index):\n",
    "    newvals = []\n",
    "    maskShift = S-1-index\n",
    "    for val in vals:\n",
    "        if (val >> maskShift)&1 == b:\n",
    "            newvals.append(val)\n",
    "    return newvals\n",
    "\n",
    "\n",
    "def getRating(vals, t = \"most\"):\n",
    "    lst = vals\n",
    "    index = 0\n",
    "    while len(lst) >= 2:\n",
    "        c = getMostCommon(lst, index) if t==\"most\" else 1-getMostCommon(lst, index)\n",
    "        lst = applyFilter(lst, c, index)\n",
    "        #print(\"During t={} have length {} with index={} and most common = {}\".format(t,len(lst),index, c))\n",
    "        index = (index+1)%S\n",
    "    return lst[0]\n",
    "\n",
    "\n",
    "oxRating = getRating(nums, \"most\")\n",
    "coRating = getRating(nums, \"least\")\n",
    "\n",
    "print(oxRating, coRating)\n",
    "print(oxRating*coRating)"
   ]
  },
  {
   "cell_type": "code",
   "execution_count": 96,
   "metadata": {},
   "outputs": [],
   "source": [
    "input = '''00100\n",
    "11110\n",
    "10110\n",
    "10111\n",
    "10101\n",
    "01111\n",
    "00111\n",
    "11100\n",
    "10000\n",
    "11001\n",
    "00010\n",
    "01010'''"
   ]
  },
  {
   "cell_type": "code",
   "execution_count": null,
   "metadata": {},
   "outputs": [],
   "source": []
  }
 ],
 "metadata": {
  "kernelspec": {
   "display_name": "Python 3",
   "language": "python",
   "name": "python3"
  },
  "language_info": {
   "codemirror_mode": {
    "name": "ipython",
    "version": 3
   },
   "file_extension": ".py",
   "mimetype": "text/x-python",
   "name": "python",
   "nbconvert_exporter": "python",
   "pygments_lexer": "ipython3",
   "version": "3.7.7"
  }
 },
 "nbformat": 4,
 "nbformat_minor": 4
}

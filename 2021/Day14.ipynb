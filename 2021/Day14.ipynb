{
 "cells": [
  {
   "cell_type": "code",
   "execution_count": 23,
   "metadata": {},
   "outputs": [
    {
     "name": "stdout",
     "output_type": "stream",
     "text": [
      "{'C': 298.0, 'H': 161.0, 'B': 1749.0, 'N': 865.0}\n",
      "1588.0\n"
     ]
    }
   ],
   "source": [
    "import numpy as np\n",
    "\n",
    "def readInput(input):\n",
    "    start = \"\"\n",
    "    rules = []\n",
    "    lines = input.split(\"\\n\")\n",
    "    readRules = False\n",
    "    for line in lines:\n",
    "        if line == \"\":\n",
    "            readRules = True\n",
    "            continue\n",
    "        if readRules:\n",
    "            vals = line.split(\" -> \")\n",
    "            rules.append((vals[0], vals[1]))\n",
    "        else:\n",
    "            start = line\n",
    "    return start, rules\n",
    "\n",
    "def checkRepeatRules(rules):\n",
    "    pairs = {}\n",
    "    for r in rules:\n",
    "        if r[0] in pairs:\n",
    "            print(\"Error: Pair already found, please change code to account for repeated rule!!\")\n",
    "            return False\n",
    "        pairs[r[0]] = True\n",
    "    return True\n",
    "\n",
    "#Get pair index is slow and should only be run for initializations\n",
    "def getPairIndex(pair, rules):\n",
    "    for i in range(0, len(rules)):\n",
    "        r = rules[i]\n",
    "        if r[0] == pair:\n",
    "            return i\n",
    "    print(\"Error: Unable to find pair in rule\")\n",
    "    return -1\n",
    "        \n",
    "\n",
    "#Rule CH -> B means replace the string CH with CBH which has pairs CB and BH. \n",
    "#We can do matrix multiplication to track the pairs\n",
    "def getPairTransformMatrix(rules):\n",
    "    N = len(rules)\n",
    "    M = np.zeros((N,N))\n",
    "    for i in range(0,len(rules)):\n",
    "        r = rules[i]\n",
    "        indexA = getPairIndex(r[0][0]+r[1], rules)\n",
    "        indexB = getPairIndex(r[1]+r[0][1], rules)\n",
    "        M[indexA][i] = 1\n",
    "        M[indexB][i] = 1\n",
    "    return M\n",
    "\n",
    "def getStartVector(start, rules):\n",
    "    v = np.zeros(len(rules))\n",
    "    for i in range(1,len(start)):\n",
    "        loc = getPairIndex(start[i-1]+start[i], rules)\n",
    "        v[loc] += 1\n",
    "    return v\n",
    "\n",
    "def getLetterCounts(v, rules, start):\n",
    "    letters = {}\n",
    "    for r in rules:\n",
    "        letters[r[0][0]] = 0\n",
    "        letters[r[0][1]] = 0\n",
    "        letters[r[1]] = 0\n",
    "    #Count letters in a way to avoid double counting\n",
    "    for i in range(0,len(rules)):\n",
    "        pair = rules[i][0]\n",
    "        pairCount = v[i]\n",
    "        letters[pair[0]] += pairCount/2.0\n",
    "        letters[pair[1]] += pairCount/2.0\n",
    "    #Add starting and ending characters\n",
    "    letters[start[0]] += 0.5\n",
    "    letters[start[-1]] += 0.5\n",
    "    return letters\n",
    "\n",
    "def getLetterCountsFromStr(s):\n",
    "    letters = {}\n",
    "    for c in s:\n",
    "        if c in letters:\n",
    "            letters[c] +=1\n",
    "        else:\n",
    "            letters[c] = 1\n",
    "    return letters\n",
    "\n",
    "numSteps = 10\n",
    "start, rules = readInput(input)\n",
    "checkRepeatRules(rules)\n",
    "M = getPairTransformMatrix(rules)\n",
    "v = getStartVector(start, rules)\n",
    "for i in range(0,numSteps):\n",
    "    v = np.matmul(M,v)\n",
    "letters = getLetterCounts(v,rules,start)\n",
    "print(letters)\n",
    "print(max(letters.values()) - min(letters.values()))\n",
    "        "
   ]
  },
  {
   "cell_type": "code",
   "execution_count": 24,
   "metadata": {},
   "outputs": [
    {
     "name": "stdout",
     "output_type": "stream",
     "text": [
      "{'C': 6597635301.0, 'H': 3849876073.0, 'B': 2192039569602.0, 'N': 1096047802353.0}\n",
      "2188189693529.0\n"
     ]
    }
   ],
   "source": [
    "numSteps = 40\n",
    "start, rules = readInput(input)\n",
    "checkRepeatRules(rules)\n",
    "M = getPairTransformMatrix(rules)\n",
    "v = getStartVector(start, rules)\n",
    "for i in range(0,numSteps):\n",
    "    v = np.matmul(M,v)\n",
    "letters = getLetterCounts(v,rules,start)\n",
    "print(letters)\n",
    "print(max(letters.values()) - min(letters.values()))\n"
   ]
  },
  {
   "cell_type": "code",
   "execution_count": 22,
   "metadata": {},
   "outputs": [],
   "source": [
    "input = \"\"\"NNCB\n",
    "\n",
    "CH -> B\n",
    "HH -> N\n",
    "CB -> H\n",
    "NH -> C\n",
    "HB -> C\n",
    "HC -> B\n",
    "HN -> C\n",
    "NN -> C\n",
    "BH -> H\n",
    "NC -> B\n",
    "NB -> B\n",
    "BN -> B\n",
    "BB -> N\n",
    "BC -> B\n",
    "CC -> N\n",
    "CN -> C\"\"\""
   ]
  },
  {
   "cell_type": "code",
   "execution_count": null,
   "metadata": {},
   "outputs": [],
   "source": []
  }
 ],
 "metadata": {
  "kernelspec": {
   "display_name": "Python 3",
   "language": "python",
   "name": "python3"
  },
  "language_info": {
   "codemirror_mode": {
    "name": "ipython",
    "version": 3
   },
   "file_extension": ".py",
   "mimetype": "text/x-python",
   "name": "python",
   "nbconvert_exporter": "python",
   "pygments_lexer": "ipython3",
   "version": "3.7.7"
  }
 },
 "nbformat": 4,
 "nbformat_minor": 4
}

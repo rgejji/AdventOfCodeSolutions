{
 "cells": [
  {
   "cell_type": "code",
   "execution_count": 46,
   "metadata": {},
   "outputs": [
    {
     "name": "stdout",
     "output_type": "stream",
     "text": [
      "7\n"
     ]
    }
   ],
   "source": [
    "#input a copied string of the input\n",
    "vals = input.split(\"\\n\")\n",
    "\n",
    "cnt = 0\n",
    "prev = 9999999\n",
    "for val in vals:\n",
    "    curr = int(val,10)\n",
    "    if curr > prev:\n",
    "        cnt = cnt + 1\n",
    "    prev = curr\n",
    "print(cnt)"
   ]
  },
  {
   "cell_type": "code",
   "execution_count": 47,
   "metadata": {},
   "outputs": [
    {
     "name": "stdout",
     "output_type": "stream",
     "text": [
      "5\n"
     ]
    }
   ],
   "source": [
    "vals = input.split(\"\\n\")\n",
    "cnt = 0\n",
    "prevSum = 0\n",
    "prev3=0\n",
    "prev2=0\n",
    "prev1=0\n",
    "index = 0\n",
    "for val in vals:\n",
    "    curr = int(val,10)\n",
    "    currSum = prev2+prev1+curr\n",
    "    if currSum > prevSum and index >2:\n",
    "        #print(currSum)\n",
    "        cnt = cnt + 1\n",
    "    prev3 = prev2\n",
    "    prev2 = prev1\n",
    "    prev1 = curr\n",
    "    prevSum = currSum\n",
    "    index = index+1\n",
    "print(cnt)"
   ]
  },
  {
   "cell_type": "code",
   "execution_count": 45,
   "metadata": {},
   "outputs": [],
   "source": [
    "input='''199\n",
    "200\n",
    "208\n",
    "210\n",
    "200\n",
    "207\n",
    "240\n",
    "269\n",
    "260\n",
    "263'''"
   ]
  },
  {
   "cell_type": "code",
   "execution_count": null,
   "metadata": {},
   "outputs": [],
   "source": []
  }
 ],
 "metadata": {
  "kernelspec": {
   "display_name": "Python 3",
   "language": "python",
   "name": "python3"
  },
  "language_info": {
   "codemirror_mode": {
    "name": "ipython",
    "version": 3
   },
   "file_extension": ".py",
   "mimetype": "text/x-python",
   "name": "python",
   "nbconvert_exporter": "python",
   "pygments_lexer": "ipython3",
   "version": "3.7.7"
  }
 },
 "nbformat": 4,
 "nbformat_minor": 4
}

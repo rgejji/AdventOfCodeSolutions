{
 "cells": [
  {
   "cell_type": "code",
   "execution_count": 41,
   "metadata": {},
   "outputs": [
    {
     "name": "stdout",
     "output_type": "stream",
     "text": [
      "[1, 0, 5, 5]\n",
      "15\n"
     ]
    }
   ],
   "source": [
    "def readInput(input):\n",
    "    grid = []\n",
    "    lines = input.split(\"\\n\")\n",
    "    for line in lines:\n",
    "        row = []\n",
    "        for char in line:\n",
    "            row.append(int(char))\n",
    "        grid.append(row)\n",
    "    return grid\n",
    "\n",
    "def findMins(grid):\n",
    "    mins = []\n",
    "    for i in range(0, len(grid)):\n",
    "        for j in range(0, len(grid[i])):\n",
    "            val = grid[i][j]\n",
    "            if i-1>=0 and grid[i-1][j]<= val:\n",
    "                continue\n",
    "            if i+1<len(grid) and grid[i+1][j]<= val:\n",
    "                continue\n",
    "            if j-1>=0 and grid[i][j-1]<= val:\n",
    "                continue\n",
    "            if j+1<len(grid[i]) and grid[i][j+1]<= val:\n",
    "                continue\n",
    "            mins.append(val)\n",
    "    return mins\n",
    "\n",
    "def scoreMins(mins):\n",
    "    return sum(mins)+len(mins)\n",
    "\n",
    "grid = readInput(input)\n",
    "mins = findMins(grid)\n",
    "score = scoreMins(mins)\n",
    "print(mins)\n",
    "print(score)\n",
    "\n"
   ]
  },
  {
   "cell_type": "code",
   "execution_count": 42,
   "metadata": {},
   "outputs": [
    {
     "name": "stdout",
     "output_type": "stream",
     "text": [
      "Product of top three basins: 1134.0\n"
     ]
    }
   ],
   "source": [
    "def findMins(grid):\n",
    "    mins = []\n",
    "    locs = []\n",
    "    for i in range(0, len(grid)):\n",
    "        for j in range(0, len(grid[i])):\n",
    "            val = grid[i][j]\n",
    "            if i-1>=0 and grid[i-1][j]<= val:\n",
    "                continue\n",
    "            if i+1<len(grid) and grid[i+1][j]<= val:\n",
    "                continue\n",
    "            if j-1>=0 and grid[i][j-1]<= val:\n",
    "                continue\n",
    "            if j+1<len(grid[i]) and grid[i][j+1]<= val:\n",
    "                continue\n",
    "            mins.append(val)\n",
    "            locs.append((i,j))\n",
    "    return locs, mins\n",
    "\n",
    "#Initialize the stack with the locs and the index\n",
    "def initializeStack(locs):\n",
    "    index = 0\n",
    "    stack = []\n",
    "    for p in locs:\n",
    "        stack.append((p, index))\n",
    "        index += 1\n",
    "    return stack\n",
    "    \n",
    "\n",
    "#Iteratively fill backwards\n",
    "#note if there are two paths a node, the basin id is the same since each node belongs to one basin\n",
    "def fillBasins(grid, stack):\n",
    "    #Initialize basin\n",
    "    N, M = len(grid), len(grid[0])\n",
    "    #Basins maps the location to the index basin at that point\n",
    "    basins = np.zeros((N, M)) - 1\n",
    "    #Counts give the size of the basin at that point\n",
    "    counts = np.zeros(len(stack))\n",
    "    while len(stack) != 0:\n",
    "        v = stack.pop()\n",
    "        loc, index = v[0], v[1]\n",
    "        i, j = loc[0], loc[1]\n",
    "        \n",
    "        #Fill basin and count if unoccupied node\n",
    "        if basins[i][j] < 0:\n",
    "            basins[i][j] = index\n",
    "            counts[index] += 1\n",
    "            \n",
    "        #Add neighbors to stack if within bounds, not yet visitied, and is not of height 9\n",
    "        if i-1>=0 and basins[i-1][j]<0 and grid[i-1][j] < 9:\n",
    "            stack.append(((i-1,j), index))\n",
    "        if i+1<len(grid) and basins[i+1][j]<0 and grid[i+1][j] < 9:\n",
    "            stack.append(((i+1,j), index))\n",
    "        if j-1>=0 and basins[i][j-1]<0 and grid[i][j-1] < 9:\n",
    "            stack.append(((i,j-1), index))\n",
    "        if j+1<len(grid[i]) and basins[i][j+1]<0 and grid[i][j+1] < 9:\n",
    "            stack.append(((i,j+1), index))\n",
    "    return counts, basins\n",
    "\n",
    "grid = readInput(input)\n",
    "locs, mins = findMins(grid)\n",
    "stack = initializeStack(locs)\n",
    "counts, basins  = fillBasins(grid, stack)\n",
    "sortedCounts = sorted(counts, key = lambda x: x, reverse=True)\n",
    "\n",
    "print(\"Product of top three basins:\", np.prod(sortedCounts[0:3]))\n",
    "    \n"
   ]
  },
  {
   "cell_type": "code",
   "execution_count": 40,
   "metadata": {},
   "outputs": [],
   "source": [
    "input = \"\"\"2199943210\n",
    "3987894921\n",
    "9856789892\n",
    "8767896789\n",
    "9899965678\"\"\""
   ]
  },
  {
   "cell_type": "code",
   "execution_count": 37,
   "metadata": {},
   "outputs": [],
   "source": []
  },
  {
   "cell_type": "code",
   "execution_count": null,
   "metadata": {},
   "outputs": [],
   "source": []
  }
 ],
 "metadata": {
  "kernelspec": {
   "display_name": "Python 3",
   "language": "python",
   "name": "python3"
  },
  "language_info": {
   "codemirror_mode": {
    "name": "ipython",
    "version": 3
   },
   "file_extension": ".py",
   "mimetype": "text/x-python",
   "name": "python",
   "nbconvert_exporter": "python",
   "pygments_lexer": "ipython3",
   "version": "3.7.7"
  }
 },
 "nbformat": 4,
 "nbformat_minor": 4
}

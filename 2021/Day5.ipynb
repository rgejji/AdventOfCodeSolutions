{
 "cells": [
  {
   "cell_type": "code",
   "execution_count": 31,
   "metadata": {},
   "outputs": [
    {
     "name": "stdout",
     "output_type": "stream",
     "text": [
      "12\n"
     ]
    }
   ],
   "source": [
    "import numpy as np\n",
    "\n",
    "#Line segment will be (x,y), (u,v)\n",
    "\n",
    "def readInput(input):\n",
    "    segments = []\n",
    "    \n",
    "    lines = input.split(\"\\n\")\n",
    "    maxNum = 0\n",
    "    for ln in lines:\n",
    "        locs = ln.split(\" -> \")\n",
    "        locA = locs[0].split(\",\")\n",
    "        locB = locs[1].split(\",\")\n",
    "        x = int(locA[0])\n",
    "        y = int(locA[1])\n",
    "        u = int(locB[0])\n",
    "        v = int(locB[1])\n",
    "        segments.append({\"x\": x,\n",
    "                         \"y\": y,\n",
    "                         \"u\": u,\n",
    "                         \"v\": v,\n",
    "                        })\n",
    "        m = max(x,y,u,v)\n",
    "        maxNum = max(m, maxNum)\n",
    "    #Make grid of a size to get all the lines\n",
    "    #maxNum is the maximum value to appear on the grid\n",
    "    grid = []\n",
    "    for i in range(0,maxNum+1):\n",
    "        grid.append([0 for j in range(0,maxNum+1)])\n",
    "    return segments, grid\n",
    "\n",
    "\n",
    "def applyLineToGrid(s, grid):\n",
    "    #check horizontal case\n",
    "    if s['y'] == s['v']:\n",
    "        start, end = s['x'], s['u']\n",
    "        if start>end:\n",
    "            start, end = end, start\n",
    "        for i in range(start, end+1):\n",
    "            grid[s['y']][i] += 1\n",
    "    \n",
    "    #check vertical case\n",
    "    elif s['x'] == s['u']:\n",
    "        start, end = s['y'], s['v']\n",
    "        if start>end:\n",
    "            start, end = end, start\n",
    "        for i in range(start, end+1):\n",
    "            grid[i][s['x']] += 1\n",
    "    #45 degree diagonal case\n",
    "    else:\n",
    "        #Order pts left to right\n",
    "        startx, endx, starty, endy = s['x'], s['u'], s['y'], s['v']\n",
    "        if startx>endx:\n",
    "            startx, endx, starty, endy = endx, startx, endy, starty\n",
    "        #Figure out slope and iterate\n",
    "        ydir = 1 if endy >= starty else -1\n",
    "        j = starty\n",
    "        for i in range(startx, endx+1):\n",
    "            grid[j][i] +=1\n",
    "            j = j + ydir\n",
    "    \n",
    "def numAtLeastTwoOverlaps(grid):\n",
    "    cnt = 0\n",
    "    for row in grid:\n",
    "        for cell in row:\n",
    "            if cell>1:\n",
    "                cnt+=1\n",
    "    return cnt\n",
    "\n",
    "def printGrid():\n",
    "    for row in grid:\n",
    "        print(row)\n",
    "    \n",
    "segments, grid = readInput(input)\n",
    "for s in segments:\n",
    "    applyLineToGrid(s, grid)\n",
    "\n",
    "print(numAtLeastTwoOverlaps(grid))\n",
    "    \n"
   ]
  },
  {
   "cell_type": "code",
   "execution_count": 30,
   "metadata": {},
   "outputs": [],
   "source": [
    "input = '''0,9 -> 5,9\n",
    "8,0 -> 0,8\n",
    "9,4 -> 3,4\n",
    "2,2 -> 2,1\n",
    "7,0 -> 7,4\n",
    "6,4 -> 2,0\n",
    "0,9 -> 2,9\n",
    "3,4 -> 1,4\n",
    "0,0 -> 8,8\n",
    "5,5 -> 8,2'''"
   ]
  },
  {
   "cell_type": "code",
   "execution_count": 27,
   "metadata": {},
   "outputs": [],
   "source": []
  },
  {
   "cell_type": "code",
   "execution_count": null,
   "metadata": {},
   "outputs": [],
   "source": []
  }
 ],
 "metadata": {
  "kernelspec": {
   "display_name": "Python 3",
   "language": "python",
   "name": "python3"
  },
  "language_info": {
   "codemirror_mode": {
    "name": "ipython",
    "version": 3
   },
   "file_extension": ".py",
   "mimetype": "text/x-python",
   "name": "python",
   "nbconvert_exporter": "python",
   "pygments_lexer": "ipython3",
   "version": "3.7.7"
  }
 },
 "nbformat": 4,
 "nbformat_minor": 4
}

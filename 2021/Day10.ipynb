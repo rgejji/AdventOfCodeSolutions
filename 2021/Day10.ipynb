{
 "cells": [
  {
   "cell_type": "code",
   "execution_count": 28,
   "metadata": {},
   "outputs": [
    {
     "name": "stdout",
     "output_type": "stream",
     "text": [
      "26397\n"
     ]
    }
   ],
   "source": [
    "def readInput(input):\n",
    "    grid = []\n",
    "    lines = input.split(\"\\n\")\n",
    "    return lines\n",
    "\n",
    "def isOpenChar(char):\n",
    "    if char == '(' or char == '[' or char == '{' or char == '<':\n",
    "        return True\n",
    "    return False\n",
    "\n",
    "def getPairScore(begin, end):\n",
    "    if end == ')':\n",
    "        if begin != '(':\n",
    "            return 3\n",
    "        return 0\n",
    "    if end == ']':\n",
    "        if begin != '[':\n",
    "            return 57\n",
    "        return 0\n",
    "    if end == '}':\n",
    "        if begin != '{':\n",
    "            return 1197\n",
    "        return 0\n",
    "    if end == '>':\n",
    "        if begin != '<':\n",
    "            return 25137\n",
    "        return 0\n",
    "    print(\"Error: Cannot score end char\", end)\n",
    "    return -1\n",
    "    \n",
    "\n",
    "#getLineScore\n",
    "def getLineScore(line):\n",
    "    stack = []\n",
    "    for char in line:\n",
    "        if isOpenChar(char):\n",
    "            stack.append(char)\n",
    "        else:\n",
    "            lastChar = stack.pop()\n",
    "            score = getPairScore(lastChar,char)\n",
    "            if score != 0:\n",
    "                return score\n",
    "    return 0\n",
    "            \n",
    "\n",
    "totalScore = 0\n",
    "lines = readInput(input)\n",
    "for line in lines:\n",
    "    totalScore += getLineScore(line)\n",
    "print(totalScore)"
   ]
  },
  {
   "cell_type": "code",
   "execution_count": 29,
   "metadata": {},
   "outputs": [
    {
     "name": "stdout",
     "output_type": "stream",
     "text": [
      "288957.0\n"
     ]
    }
   ],
   "source": [
    "import numpy as np\n",
    "#getLineScore\n",
    "def getLineScore(line):\n",
    "    stack = []\n",
    "    for char in line:\n",
    "        if isOpenChar(char):\n",
    "            stack.append(char)\n",
    "        else:\n",
    "            lastChar = stack.pop()\n",
    "            score = getPairScore(lastChar,char)\n",
    "            if score != 0:\n",
    "                return score, []\n",
    "    return 0, stack\n",
    "\n",
    "def getAutocompleteScore(val):\n",
    "    if val == '(':\n",
    "        return 1\n",
    "    if val == '[':\n",
    "        return 2\n",
    "    if val == '{':\n",
    "        return 3\n",
    "    if val == '<':\n",
    "        return 4\n",
    "    print(\"Error: unexpected uncleared value in stack: \", val)\n",
    "    return 0\n",
    "\n",
    "def scoreCompletion(stack):\n",
    "    score = 0\n",
    "    while len(stack)>0:\n",
    "        val = stack.pop()\n",
    "        score = 5*score + getAutocompleteScore(val)\n",
    "    return score\n",
    "\n",
    "lines = readInput(input)\n",
    "scores = []\n",
    "for line in lines:\n",
    "    #Get stack that remains after completing what we can\n",
    "    s, stack = getLineScore(line)\n",
    "    #Find corrupted lines and skip them.\n",
    "    if s != 0:\n",
    "        continue\n",
    "    scores.append(scoreCompletion(stack))\n",
    "    \n",
    "\n",
    "print(np.median(scores))\n"
   ]
  },
  {
   "cell_type": "code",
   "execution_count": 26,
   "metadata": {},
   "outputs": [],
   "source": [
    "input = '''[({(<(())[]>[[{[]{<()<>>\n",
    "[(()[<>])]({[<{<<[]>>(\n",
    "{([(<{}[<>[]}>{[]{[(<()>\n",
    "(((({<>}<{<{<>}{[]{[]{}\n",
    "[[<[([]))<([[{}[[()]]]\n",
    "[{[{({}]{}}([{[{{{}}([]\n",
    "{<[[]]>}<{[{[{[]{()[[[]\n",
    "[<(<(<(<{}))><([]([]()\n",
    "<{([([[(<>()){}]>(<<{{\n",
    "<{([{{}}[<[[[<>{}]]]>[]]'''"
   ]
  },
  {
   "cell_type": "code",
   "execution_count": 22,
   "metadata": {},
   "outputs": [],
   "source": []
  },
  {
   "cell_type": "code",
   "execution_count": null,
   "metadata": {},
   "outputs": [],
   "source": []
  }
 ],
 "metadata": {
  "kernelspec": {
   "display_name": "Python 3",
   "language": "python",
   "name": "python3"
  },
  "language_info": {
   "codemirror_mode": {
    "name": "ipython",
    "version": 3
   },
   "file_extension": ".py",
   "mimetype": "text/x-python",
   "name": "python",
   "nbconvert_exporter": "python",
   "pygments_lexer": "ipython3",
   "version": "3.7.7"
  }
 },
 "nbformat": 4,
 "nbformat_minor": 4
}

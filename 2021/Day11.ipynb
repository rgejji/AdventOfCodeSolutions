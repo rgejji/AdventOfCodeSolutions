{
 "cells": [
  {
   "cell_type": "code",
   "execution_count": 23,
   "metadata": {},
   "outputs": [
    {
     "name": "stdout",
     "output_type": "stream",
     "text": [
      "1656\n"
     ]
    }
   ],
   "source": [
    "import numpy as np\n",
    "\n",
    "def readInput(input):\n",
    "    grid = []\n",
    "    lines = input.split(\"\\n\")\n",
    "    for line in lines:\n",
    "        row = []\n",
    "        for char in line:\n",
    "            row.append(int(char))\n",
    "        grid.append(row)\n",
    "    return grid\n",
    "\n",
    "def getGridHash(grid):\n",
    "    return np.array2string(grid.flatten())\n",
    "\n",
    "\n",
    "#Update cell if it hasn't already exploded\n",
    "def updateCell(loc, grid, stack, exploded):\n",
    "    i,j = loc[0], loc[1]\n",
    "    if i>= len(grid) or i<0 or j>= len(grid[0]) or j<0:\n",
    "        return\n",
    "    if exploded[i,j] == 0:\n",
    "        grid[i][j] += 1\n",
    "        if grid[i][j] >= 10:\n",
    "            stack.append((i,j))\n",
    "\n",
    "def updateGrid(grid):\n",
    "    explosions = 0\n",
    "    stack = [] #explosion stack\n",
    "    exploded = np.zeros((len(grid), len(grid[0])))\n",
    "    \n",
    "    #Handle updates\n",
    "    for i in range(0,len(grid)):\n",
    "        for j in range(0,len(grid[0])):\n",
    "            updateCell((i,j), grid, stack, exploded)\n",
    "            \n",
    "    #Handle explosions\n",
    "    while len(stack) > 0:\n",
    "        loc = stack.pop()\n",
    "        i,j = loc[0], loc[1]\n",
    "        if exploded[i][j] == 1:\n",
    "            continue\n",
    "        exploded[i][j] = 1\n",
    "        grid[i][j] = 0\n",
    "        explosions += 1\n",
    "        updateCell((i+1,j), grid, stack, exploded)\n",
    "        updateCell((i+1,j+1), grid, stack, exploded)\n",
    "        updateCell((i,j+1), grid, stack, exploded)\n",
    "        updateCell((i-1,j+1), grid, stack, exploded)\n",
    "        updateCell((i-1,j), grid, stack, exploded)\n",
    "        updateCell((i-1,j-1), grid, stack, exploded)\n",
    "        updateCell((i,j-1), grid, stack, exploded)\n",
    "        updateCell((i+1,j-1), grid, stack, exploded)\n",
    "    return grid, explosions\n",
    "\n",
    "numSteps = 100\n",
    "grid = readInput(input)\n",
    "total = 0\n",
    "for i in range(0, numSteps):\n",
    "    grid, explosions = updateGrid(grid)\n",
    "    total += explosions\n",
    "print(total)\n",
    "\n"
   ]
  },
  {
   "cell_type": "code",
   "execution_count": 24,
   "metadata": {},
   "outputs": [
    {
     "name": "stdout",
     "output_type": "stream",
     "text": [
      "195\n"
     ]
    }
   ],
   "source": [
    "def readInput(input):\n",
    "    grid = []\n",
    "    lines = input.split(\"\\n\")\n",
    "    for line in lines:\n",
    "        row = []\n",
    "        for char in line:\n",
    "            row.append(int(char))\n",
    "        grid.append(row)\n",
    "    return np.array(grid)\n",
    "\n",
    "\n",
    "grid = readInput(input)\n",
    "cnt = 0\n",
    "zeroHash = getGridHash(np.zeros((len(grid), len(grid[0])), dtype=int))\n",
    "maxWait = 100000000000\n",
    "while True:\n",
    "    cnt += 1\n",
    "    grid, explosions = updateGrid(grid)\n",
    "    if zeroHash == getGridHash(grid):\n",
    "        break\n",
    "\n",
    "    if cnt > maxWait:\n",
    "        print(\"Error, should not wait this long\")\n",
    "        break\n",
    "    \n",
    "print(cnt)"
   ]
  },
  {
   "cell_type": "code",
   "execution_count": 22,
   "metadata": {},
   "outputs": [],
   "source": [
    "input = '''5483143223\n",
    "2745854711\n",
    "5264556173\n",
    "6141336146\n",
    "6357385478\n",
    "4167524645\n",
    "2176841721\n",
    "6882881134\n",
    "4846848554\n",
    "5283751526'''"
   ]
  },
  {
   "cell_type": "code",
   "execution_count": null,
   "metadata": {},
   "outputs": [],
   "source": []
  }
 ],
 "metadata": {
  "kernelspec": {
   "display_name": "Python 3",
   "language": "python",
   "name": "python3"
  },
  "language_info": {
   "codemirror_mode": {
    "name": "ipython",
    "version": 3
   },
   "file_extension": ".py",
   "mimetype": "text/x-python",
   "name": "python",
   "nbconvert_exporter": "python",
   "pygments_lexer": "ipython3",
   "version": "3.7.7"
  }
 },
 "nbformat": 4,
 "nbformat_minor": 4
}

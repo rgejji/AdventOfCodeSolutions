{
 "cells": [
  {
   "cell_type": "code",
   "execution_count": 34,
   "metadata": {},
   "outputs": [
    {
     "name": "stdout",
     "output_type": "stream",
     "text": [
      "Encountered a duplicate grid on cnt  58\n"
     ]
    }
   ],
   "source": [
    "import copy\n",
    "\n",
    "def readInput(input):\n",
    "    grid = []\n",
    "    lines = input.split(\"\\n\")\n",
    "    for line in lines:\n",
    "        row = []\n",
    "        for c in line:\n",
    "            row.append(c)\n",
    "        grid.append(row)\n",
    "    return grid\n",
    "\n",
    "def gridToStr(grid):\n",
    "    s = \"\"\n",
    "    for i in range(0, len(grid)):\n",
    "        s+=\"\".join(grid[i])\n",
    "    return s\n",
    "\n",
    "def printGrid(grid):\n",
    "    for i in range(0, len(grid)):\n",
    "        print(\"\".join(grid[i]))\n",
    "\n",
    "def updateEast(grid):\n",
    "    M = len(grid)\n",
    "    N = len(grid[0])\n",
    "    newGrid = copy.deepcopy(grid)\n",
    "    for i in range(0,M):\n",
    "        for j in range(0,N):\n",
    "            newJ = (j+1)%N\n",
    "            if grid[i][j] == \">\" and grid[i][newJ] == \".\":\n",
    "                newGrid[i][newJ] = \">\"\n",
    "                newGrid[i][j] = \".\"\n",
    "    return newGrid\n",
    "                \n",
    "def updateSouth(grid):\n",
    "    M = len(grid)\n",
    "    N = len(grid[0])\n",
    "    newGrid = copy.deepcopy(grid)\n",
    "    for i in range(0,M):\n",
    "        newI = (i+1)%M\n",
    "        for j in range(0,N):\n",
    "            if grid[i][j] == \"v\" and grid[newI][j] == \".\":\n",
    "                newGrid[newI][j] = \"v\"\n",
    "                newGrid[i][j] = \".\"\n",
    "    return newGrid\n",
    "\n",
    "\n",
    "def runSim(grid):\n",
    "    gridDict = {}\n",
    "    cnt = 0\n",
    "    gridHash = gridToStr(grid)\n",
    "    while not (gridHash in gridDict):\n",
    "        gridDict[gridToStr(grid)] = cnt\n",
    "        grid = updateEast(grid)\n",
    "        grid = updateSouth(grid)\n",
    "        gridHash = gridToStr(grid)\n",
    "        #printGrid(grid)\n",
    "        #print(\"\")\n",
    "        cnt+=1\n",
    "        \n",
    "    print(\"Encountered a duplicate grid on cnt \", cnt)\n",
    "grid = readInput(input)\n",
    "runSim(grid)"
   ]
  },
  {
   "cell_type": "code",
   "execution_count": 33,
   "metadata": {},
   "outputs": [],
   "source": [
    "input = \"\"\"v...>>.vv>\n",
    ".vv>>.vv..\n",
    ">>.>v>...v\n",
    ">>v>>.>.v.\n",
    "v>v.vv.v..\n",
    ">.>>..v...\n",
    ".vv..>.>v.\n",
    "v.v..>>v.v\n",
    "....v..v.>\"\"\""
   ]
  },
  {
   "cell_type": "code",
   "execution_count": 19,
   "metadata": {},
   "outputs": [],
   "source": [
    "input = \"\"\"..........\n",
    ".>v....v..\n",
    ".......>..\n",
    "..........\"\"\""
   ]
  },
  {
   "cell_type": "code",
   "execution_count": null,
   "metadata": {},
   "outputs": [],
   "source": []
  }
 ],
 "metadata": {
  "kernelspec": {
   "display_name": "Python 3",
   "language": "python",
   "name": "python3"
  },
  "language_info": {
   "codemirror_mode": {
    "name": "ipython",
    "version": 3
   },
   "file_extension": ".py",
   "mimetype": "text/x-python",
   "name": "python",
   "nbconvert_exporter": "python",
   "pygments_lexer": "ipython3",
   "version": "3.7.7"
  }
 },
 "nbformat": 4,
 "nbformat_minor": 4
}

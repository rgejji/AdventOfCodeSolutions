{
 "cells": [
  {
   "cell_type": "code",
   "execution_count": 36,
   "metadata": {},
   "outputs": [
    {
     "name": "stdout",
     "output_type": "stream",
     "text": [
      "17\n"
     ]
    }
   ],
   "source": [
    "import numpy as np\n",
    "\n",
    "def locArrToStr(vals):\n",
    "    return \"{}_{}\".format(vals[0],vals[1])\n",
    "\n",
    "def readInput(input):\n",
    "    folds = []\n",
    "    locs = {}\n",
    "    lines = input.split(\"\\n\")\n",
    "    readFolds = False\n",
    "    for line in lines:\n",
    "        if line == \"\":\n",
    "            readFolds = True\n",
    "            continue\n",
    "        if readFolds:\n",
    "            vals = line.split(\"=\")\n",
    "            folds.append((vals[0][-1], int(vals[1])))\n",
    "        else:\n",
    "            vals = line.split(\",\")\n",
    "            x,y = int(vals[0]), int(vals[1])\n",
    "            locs[locArrToStr([x,y])] = (x,y)\n",
    "    return locs, folds\n",
    "\n",
    "def getGrid(locs):\n",
    "    maxX = max([l[0] for l in locs.values()])\n",
    "    maxY = max([l[1] for l in locs.values()])\n",
    "    grid = []\n",
    "    for y in range(0,maxY+1):\n",
    "        row = ['.']*(maxX+1)\n",
    "        grid.append(row)\n",
    "    for l in locs.values():\n",
    "        grid[l[1]][l[0]] = '#'\n",
    "    return grid\n",
    "\n",
    "def printGrid(locs):\n",
    "    grid = getGrid(locs)\n",
    "    for row in grid:\n",
    "        for c in row:\n",
    "            print(c, end=\"\")\n",
    "        print(\"\\n\")\n",
    "\n",
    "def performFold(locs, fold):\n",
    "    newLocs = {}\n",
    "    instruction = fold[0]\n",
    "    line = fold[1]\n",
    "    for value in locs.values():\n",
    "        newLoc = [value[0], value[1]]\n",
    "        if instruction == \"x\":\n",
    "            if newLoc[0] > line:\n",
    "                newLoc[0] = 2*line-newLoc[0]\n",
    "        if instruction == \"y\":\n",
    "            if newLoc[1] > line:\n",
    "                newLoc[1] = 2*line-newLoc[1]\n",
    "        newLocs[locArrToStr(newLoc)] = (newLoc[0], newLoc[1])                \n",
    "    return newLocs\n",
    "\n",
    "locs, folds = readInput(input)\n",
    "newLocs = performFold(locs, folds[0])\n",
    "#printGrid(newLocs)\n",
    "#newLocs = performFold(newLocs, folds[1])\n",
    "#printGrid(newLocs)\n",
    "#print(newLocs)\n",
    "print(len(newLocs))"
   ]
  },
  {
   "cell_type": "code",
   "execution_count": 37,
   "metadata": {},
   "outputs": [
    {
     "name": "stdout",
     "output_type": "stream",
     "text": [
      "#####\n",
      "\n",
      "#...#\n",
      "\n",
      "#...#\n",
      "\n",
      "#...#\n",
      "\n",
      "#####\n",
      "\n"
     ]
    }
   ],
   "source": [
    "newLocs, folds = readInput(input)\n",
    "for f in folds:\n",
    "    newLocs = performFold(newLocs, f)\n",
    "printGrid(newLocs)\n"
   ]
  },
  {
   "cell_type": "code",
   "execution_count": 35,
   "metadata": {},
   "outputs": [],
   "source": [
    "input = '''6,10\n",
    "0,14\n",
    "9,10\n",
    "0,3\n",
    "10,4\n",
    "4,11\n",
    "6,0\n",
    "6,12\n",
    "4,1\n",
    "0,13\n",
    "10,12\n",
    "3,4\n",
    "3,0\n",
    "8,4\n",
    "1,10\n",
    "2,14\n",
    "8,10\n",
    "9,0\n",
    "\n",
    "fold along y=7\n",
    "fold along x=5'''"
   ]
  },
  {
   "cell_type": "code",
   "execution_count": 28,
   "metadata": {},
   "outputs": [],
   "source": []
  },
  {
   "cell_type": "code",
   "execution_count": null,
   "metadata": {},
   "outputs": [],
   "source": []
  }
 ],
 "metadata": {
  "kernelspec": {
   "display_name": "Python 3",
   "language": "python",
   "name": "python3"
  },
  "language_info": {
   "codemirror_mode": {
    "name": "ipython",
    "version": 3
   },
   "file_extension": ".py",
   "mimetype": "text/x-python",
   "name": "python",
   "nbconvert_exporter": "python",
   "pygments_lexer": "ipython3",
   "version": "3.7.7"
  }
 },
 "nbformat": 4,
 "nbformat_minor": 4
}

{
 "cells": [
  {
   "cell_type": "code",
   "execution_count": 38,
   "metadata": {},
   "outputs": [
    {
     "name": "stdout",
     "output_type": "stream",
     "text": [
      "Board: 3 num: 24 boardscore: 188 finalscore: 4512\n",
      "score 4512\n"
     ]
    }
   ],
   "source": [
    "import numpy as np\n",
    "\n",
    "#Boards are arrays that have a cnt of number of times that number is drawn\n",
    "#Dicts are reverse indicies that have the number as the key and an array of locations as the value\n",
    "\n",
    "\n",
    "N=5\n",
    "horz = \"horz\"\n",
    "vert = \"vert\"\n",
    "boardValInd = 0\n",
    "boardFillInd = 1\n",
    "\n",
    "def makeNewBoard(N):\n",
    "    board = []\n",
    "    for i in range(0,N):\n",
    "        board.append([[0,0] for j in range(0,N)])\n",
    "    return board\n",
    "\n",
    "\n",
    "def scoreLine(board, direction=horz):\n",
    "    S=0\n",
    "    if checkLine(board, direction):\n",
    "        for i in range(0,N):\n",
    "            for j in range(0,N):\n",
    "                num = board[i][j][boardFillInd]\n",
    "                if num == 0:\n",
    "                    S+=int(board[i][j][boardValInd])\n",
    "    return S\n",
    "\n",
    "def checkLine(board, direction=horz):\n",
    "    for i in range(0,N):\n",
    "        foundLine = True\n",
    "        for j in range(0,N):\n",
    "            fill = board[i][j][boardFillInd] if direction == horz else board[j][i][boardFillInd]\n",
    "            if fill == 0:\n",
    "                foundLine = False\n",
    "                break\n",
    "        if foundLine:\n",
    "            return True\n",
    "    return False\n",
    "\n",
    "#Score until winner. Note boards in code are 0 indexed while AOC 1 indexes\n",
    "def score(callouts, boards, dicts):\n",
    "    for c in callouts:\n",
    "        for i in range(1,len(boards)+1):\n",
    "            b = boards[i-1]\n",
    "            d = dicts[i-1]\n",
    "            if c in d:\n",
    "                for loc in d[c]:\n",
    "                    b[loc[0]][loc[1]][boardFillInd] += 1\n",
    "                scoreH = scoreLine(b, direction=horz)\n",
    "                scoreV = scoreLine(b, direction=vert)\n",
    "                S = max(scoreH, scoreV)\n",
    "                if S>0:\n",
    "                    print(\"Board: {} num: {} boardscore: {} finalscore: {}\".format(i, int(c), S, int(c)*S))\n",
    "                    return S*int(c)\n",
    "    return 0\n",
    "    \n",
    "def readInput(input):\n",
    "    #input a copied string of the input\n",
    "    lines = input.split(\"\\n\")\n",
    "\n",
    "    callouts= lines[0].split(\",\")\n",
    "    #Make boards and dicts\n",
    "    boards = []\n",
    "    dicts = []\n",
    "    currBoard = makeNewBoard(N)\n",
    "    currDict = {}\n",
    "    cnt=0\n",
    "    for ln in lines[2:]:\n",
    "        if ln == \"\":\n",
    "            boards.append(currBoard)\n",
    "            currBoard = makeNewBoard(N)\n",
    "            dicts.append(currDict)\n",
    "            currDict = {}\n",
    "            cnt = 0\n",
    "            continue\n",
    "\n",
    "        vals = ln.split()\n",
    "        for j in range(0,N):\n",
    "            num = vals[j]\n",
    "            currBoard[cnt][j][boardFillInd] = 0\n",
    "            currBoard[cnt][j][boardValInd] = num\n",
    "            if num in currDict:\n",
    "                currDict[num].append((cnt,j))\n",
    "            currDict[vals[j]] =  [(cnt,j)]\n",
    "        cnt+=1   \n",
    "    boards.append(currBoard)\n",
    "    dicts.append(currDict)\n",
    "    return callouts, boards, dicts\n",
    "\n",
    "callouts,boards,dicts = readInput(input)\n",
    "s = score(callouts, boards, dicts)\n",
    "print(\"score {}\".format(s))\n",
    "\n",
    "\n"
   ]
  },
  {
   "cell_type": "code",
   "execution_count": 39,
   "metadata": {},
   "outputs": [
    {
     "name": "stdout",
     "output_type": "stream",
     "text": [
      "Biggest loser at time 14 with num 13 has total score 1924\n"
     ]
    },
    {
     "data": {
      "text/plain": [
       "1924"
      ]
     },
     "execution_count": 39,
     "metadata": {},
     "output_type": "execute_result"
    }
   ],
   "source": [
    "def getWinState(board, d, callouts):\n",
    "    cnt = 0\n",
    "    for c in callouts:\n",
    "        if c in d:\n",
    "            for loc in d[c]:\n",
    "                board[loc[0]][loc[1]][boardFillInd] += 1\n",
    "            scoreH = scoreLine(board, direction=horz)\n",
    "            scoreV = scoreLine(board, direction=vert)\n",
    "            S = max(scoreH, scoreV)\n",
    "            if S>0:\n",
    "                return cnt, S, int(c)\n",
    "        cnt += 1\n",
    "    return cnt, 0, callouts[-1]\n",
    "\n",
    "def getLastBoard(boards, dicts, callouts):\n",
    "    lastBoardTime, lastBoardScore, lastBoardNum = getWinState(boards[0], dicts[0], callouts)\n",
    "    for i in range(1, len(boards)):\n",
    "        t, s, n = getWinState(boards[i], dicts[i], callouts)\n",
    "        if t >= lastBoardTime:\n",
    "            lastBoardScore = s\n",
    "            lastBoardTime = t\n",
    "            lastBoardNum = n\n",
    "    print(\"Biggest loser at time {} with num {} has total score {}\".format(lastBoardTime, lastBoardNum, lastBoardNum*lastBoardScore))\n",
    "    return lastBoardNum*lastBoardScore\n",
    "\n",
    "callouts,boards,dicts = readInput(input)\n",
    "getLastBoard(boards,dicts,callouts)"
   ]
  },
  {
   "cell_type": "code",
   "execution_count": 37,
   "metadata": {},
   "outputs": [],
   "source": [
    "input = '''7,4,9,5,11,17,23,2,0,14,21,24,10,16,13,6,15,25,12,22,18,20,8,19,3,26,1\n",
    "\n",
    "22 13 17 11  0\n",
    " 8  2 23  4 24\n",
    "21  9 14 16  7\n",
    " 6 10  3 18  5\n",
    " 1 12 20 15 19\n",
    "\n",
    " 3 15  0  2 22\n",
    " 9 18 13 17  5\n",
    "19  8  7 25 23\n",
    "20 11 10 24  4\n",
    "14 21 16 12  6\n",
    "\n",
    "14 21 17 24  4\n",
    "10 16 15  9 19\n",
    "18  8 23 26 20\n",
    "22 11 13  6  5\n",
    " 2  0 12  3  7'''"
   ]
  },
  {
   "cell_type": "code",
   "execution_count": 35,
   "metadata": {},
   "outputs": [],
   "source": []
  },
  {
   "cell_type": "code",
   "execution_count": null,
   "metadata": {},
   "outputs": [],
   "source": []
  }
 ],
 "metadata": {
  "kernelspec": {
   "display_name": "Python 3",
   "language": "python",
   "name": "python3"
  },
  "language_info": {
   "codemirror_mode": {
    "name": "ipython",
    "version": 3
   },
   "file_extension": ".py",
   "mimetype": "text/x-python",
   "name": "python",
   "nbconvert_exporter": "python",
   "pygments_lexer": "ipython3",
   "version": "3.7.7"
  }
 },
 "nbformat": 4,
 "nbformat_minor": 4
}

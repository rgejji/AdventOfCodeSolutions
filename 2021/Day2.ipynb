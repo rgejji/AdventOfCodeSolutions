{
 "cells": [
  {
   "cell_type": "code",
   "execution_count": 15,
   "metadata": {},
   "outputs": [
    {
     "name": "stdout",
     "output_type": "stream",
     "text": [
      "15 10\n",
      "150\n"
     ]
    }
   ],
   "source": [
    "#input a copied string of the input\n",
    "vals = input.split(\"\\n\")\n",
    "\n",
    "horiz=0\n",
    "depth=0\n",
    "forward = \"forward\"\n",
    "down = \"down\"\n",
    "up = \"up\"\n",
    "for val in vals:\n",
    "    cmds = val.split(\" \")\n",
    "    cmd = cmds[0]\n",
    "    amnt = int(cmds[1],10)\n",
    "    if cmd == forward:\n",
    "        horiz += amnt\n",
    "    if cmd == down:\n",
    "        depth += amnt\n",
    "    if cmd == up:\n",
    "        depth = max(depth-amnt, 0)\n",
    "print(horiz,depth)\n",
    "print(horiz*depth)"
   ]
  },
  {
   "cell_type": "code",
   "execution_count": 16,
   "metadata": {},
   "outputs": [
    {
     "name": "stdout",
     "output_type": "stream",
     "text": [
      "15 60\n",
      "900\n"
     ]
    }
   ],
   "source": [
    "#input a copied string of the input\n",
    "vals = input.split(\"\\n\")\n",
    "\n",
    "horiz=0\n",
    "depth=0\n",
    "aim = 0\n",
    "forward = \"forward\"\n",
    "down = \"down\"\n",
    "up = \"up\"\n",
    "for val in vals:\n",
    "    cmds = val.split(\" \")\n",
    "    cmd = cmds[0]\n",
    "    amnt = int(cmds[1],10)\n",
    "    if cmd == forward:\n",
    "        horiz += amnt\n",
    "        depth = max(depth+aim*amnt, 0)\n",
    "    if cmd == down:\n",
    "        aim += amnt\n",
    "    if cmd == up:\n",
    "        aim -= amnt\n",
    "print(horiz,depth)\n",
    "print(horiz*depth)"
   ]
  },
  {
   "cell_type": "code",
   "execution_count": 14,
   "metadata": {},
   "outputs": [],
   "source": [
    "input='''forward 5\n",
    "down 5\n",
    "forward 8\n",
    "up 3\n",
    "down 8\n",
    "forward 2'''"
   ]
  },
  {
   "cell_type": "code",
   "execution_count": null,
   "metadata": {},
   "outputs": [],
   "source": []
  }
 ],
 "metadata": {
  "kernelspec": {
   "display_name": "Python 3",
   "language": "python",
   "name": "python3"
  },
  "language_info": {
   "codemirror_mode": {
    "name": "ipython",
    "version": 3
   },
   "file_extension": ".py",
   "mimetype": "text/x-python",
   "name": "python",
   "nbconvert_exporter": "python",
   "pygments_lexer": "ipython3",
   "version": "3.7.7"
  }
 },
 "nbformat": 4,
 "nbformat_minor": 4
}
